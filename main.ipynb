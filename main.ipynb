{
 "cells": [
  {
   "cell_type": "code",
   "execution_count": null,
   "metadata": {},
   "outputs": [],
   "source": [
    "from Code.KNearestNeighbors import Knn\n",
    "from Code.PolynomialRegression import PolynomialRegression\n",
    "import pandas as pd\n",
    "import numpy as np\n",
    "import math\n",
    "import csv\n",
    "import sys\n",
    "import time"
   ]
  },
  {
   "cell_type": "code",
   "execution_count": null,
   "metadata": {},
   "outputs": [],
   "source": [
    "def readInData(filename):\n",
    "    data = list()\n",
    "    try:\n",
    "        with open(filename, mode='r') as file:\n",
    "            csvFile = csv.reader(file)\n",
    "\n",
    "            for line in csvFile:\n",
    "                list1 = list()\n",
    "\n",
    "                try:\n",
    "                    for value in line:\n",
    "                        list1.append(float(value))\n",
    "                    list1 = np.array(list1, dtype=np.float32)\n",
    "                    data.append(list1)\n",
    "                except(ValueError):\n",
    "                   print('Could not covert to float')\n",
    "\n",
    "    except(FileNotFoundError):\n",
    "        print(\"File Not Found\")\n",
    "        sys.exit(1)\n",
    "        \n",
    "    data = np.array(data)\n",
    "    return data[:,1], data[:,11]"
   ]
  },
  {
   "cell_type": "code",
   "execution_count": null,
   "metadata": {},
   "outputs": [],
   "source": [
    "red_wine_X, red_wine_y = readInData('Data/winequality-red.csv')\n",
    "\n",
    "length_train_set = math.ceil(0.8 * len(red_wine_X))\n",
    "\n",
    "train_X = red_wine_X[:length_train_set]\n",
    "train_y = red_wine_y[:length_train_set]\n",
    "\n",
    "test_X = red_wine_X[length_train_set:]\n",
    "test_y = red_wine_y[length_train_set:]\n",
    "\n",
    "folds = 6\n"
   ]
  },
  {
   "cell_type": "code",
   "execution_count": null,
   "metadata": {},
   "outputs": [],
   "source": [
    "d_max = 12\n",
    "\n",
    "start = time.time()\n",
    "\n",
    "reg = PolynomialRegression()\n",
    "reg.fit(train_X.copy(), train_y.copy(), d_max, folds)\n",
    "reg.determineWFinal(train_X.copy(), train_y.copy())\n",
    "predictions = reg.predict_y(test_X.copy(), test_y.copy())\n",
    "reg.Loss(predictions, test_y)\n",
    "\n",
    "end = time.time()\n",
    "\n",
    "runtime_1 = end-start"
   ]
  },
  {
   "cell_type": "code",
   "execution_count": null,
   "metadata": {},
   "outputs": [],
   "source": [
    "reg_rmses = pd.DataFrame(\n",
    "    reg.avg_rmses,\n",
    "    index=range(d_max+1),\n",
    "    columns=[\"RMSE\"])\n",
    "\n",
    "reg_rmses"
   ]
  },
  {
   "cell_type": "code",
   "execution_count": null,
   "metadata": {},
   "outputs": [],
   "source": [
    "reg_final_values = pd.DataFrame({\n",
    "    \"d*\": [reg.d_final],\n",
    "    \"w*\": [reg.w_final],\n",
    "    \"Loss\": [reg.loss]\n",
    "})\n",
    "\n",
    "reg_final_values.style \\\n",
    "    .set_caption(\"Polynomial Regresion Final Values\") \\\n",
    "    .format(precision=7, decimal=\".\") \\\n",
    "    .relabel_index([\"\"], axis=0)"
   ]
  },
  {
   "cell_type": "code",
   "execution_count": null,
   "metadata": {},
   "outputs": [],
   "source": [
    "neighbors_min = 1267\n",
    "neighbors_max = 1280\n",
    "\n",
    "start = time.time()\n",
    "\n",
    "knn = Knn()\n",
    "\n",
    "knn.fit(train_X.copy(), train_y.copy(), folds, neighbors_min, neighbors_max)\n",
    "knn.Loss(train_X.copy(), train_y.copy(), test_X.copy(), test_y.copy())\n",
    "\n",
    "end = time.time()\n",
    "\n",
    "runtime_2 = end-start"
   ]
  },
  {
   "cell_type": "code",
   "execution_count": null,
   "metadata": {},
   "outputs": [],
   "source": [
    "knn_rmses = pd.DataFrame(\n",
    "    knn.avg_rmses,\n",
    "    index=range(neighbors_min, neighbors_max+1),\n",
    "    columns=[\"RMSE\"])\n",
    "\n",
    "knn_rmses.style \\\n",
    "    .set_caption(\"K Nearest Neighbors RMSE's\") \\\n",
    "    .format(precision=10, decimal=\".\") \\\n",
    "    \n",
    "knn_rmses"
   ]
  },
  {
   "cell_type": "code",
   "execution_count": null,
   "metadata": {},
   "outputs": [],
   "source": [
    "knn_finals_values = pd.DataFrame({\n",
    "    \"k*\": [knn.k_final+neighbors_min],\n",
    "    \"Loss\": [knn.loss]\n",
    "})\n",
    "\n",
    "knn_finals_values.style\\\n",
    "    .format(precision=7, decimal=\".\")\\\n",
    "    .relabel_index([\"\"], axis=0)"
   ]
  },
  {
   "cell_type": "code",
   "execution_count": null,
   "metadata": {},
   "outputs": [],
   "source": [
    "runtimes = pd.DataFrame({\n",
    "    \"Polynomial Regression\": [runtime_1],\n",
    "    \"K Nearest Neighbors\": [runtime_2]\n",
    "})\n",
    "\n",
    "runtimes.style\\\n",
    "    .set_caption(\"Runtime (seconds)\")\\\n",
    "    .format(precision=7, decimal=\".\")\\\n",
    "    .relabel_index([\"\"], axis=0)"
   ]
  }
 ],
 "metadata": {
  "kernelspec": {
   "display_name": "Python 3",
   "language": "python",
   "name": "python3"
  },
  "language_info": {
   "codemirror_mode": {
    "name": "ipython",
    "version": 3
   },
   "file_extension": ".py",
   "mimetype": "text/x-python",
   "name": "python",
   "nbconvert_exporter": "python",
   "pygments_lexer": "ipython3",
   "version": "3.10.9"
  }
 },
 "nbformat": 4,
 "nbformat_minor": 2
}
